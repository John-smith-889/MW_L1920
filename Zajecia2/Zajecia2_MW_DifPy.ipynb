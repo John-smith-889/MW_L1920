{
 "cells": [
  {
   "cell_type": "markdown",
   "metadata": {},
   "source": [
    "# Zajecia 2 - Modelowanie Wieloagentowe - Sieci społeczne"
   ]
  },
  {
   "cell_type": "markdown",
   "metadata": {},
   "source": [
    "## Quick intro to graphs"
   ]
  },
  {
   "cell_type": "markdown",
   "metadata": {},
   "source": [
    "Sources:\n",
    "* [Introduction to Graphs](http://pages.cs.wisc.edu/~paton/readings/Old/fall08/GRAPH.html)\n",
    "* [A Gentle Introduction To Graph Theory](https://medium.com/basecs/a-gentle-introduction-to-graph-theory-77969829ead8)"
   ]
  },
  {
   "cell_type": "markdown",
   "metadata": {},
   "source": [
    "Graph $G = (V,E)$ consists of set of **vertices** (nodes) $V$ and set of **edges** (arcs) $E$ with each edge defined as pair of adjacent vertices e.g. $e_1 \\equiv (v_1,v_2)$\n",
    "\n",
    "In **undirected** graphs order of vertices in edge definition doesn't matter.\n",
    "\n",
    "<img src=\"https://miro.medium.com/max/1400/1*goT8sipQbDIoogV6Kc_3KA.jpeg\" width=400p>\n",
    "\n",
    "In **directed** graphs (**digraphs**) order of vertices in edge definition matters.\n",
    "\n",
    "<img src=\"https://miro.medium.com/max/1400/1*ThD5bfLUyEx49s5S9qKKow.jpeg\" width=400p>\n",
    "\n",
    "We can keep both information about edges and vertices in **adjacency matrix**. If matrix is symmetric it means we are working with **undirected** graph.\n",
    "\n",
    "<img src=\"http://pages.cs.wisc.edu/~paton/readings/Old/fall08/GRAPH-FIGURES/adMatrix.gif\" width=400p>"
   ]
  },
  {
   "cell_type": "markdown",
   "metadata": {},
   "source": [
    "**Facebook vs. Twitter - directed or undirected?**\n",
    "\n",
    "On Facebook, after accepting friend request, both people are friends of one another (undirected graph). \n",
    "\n",
    "<img src=\"https://miro.medium.com/max/1400/1*qxvZX-YRBsRrmM5ePvNAQA.jpeg\" width=400p>\n",
    "\n",
    "On Twitter people we are following don't have to follow us (directed graph).\n",
    "\n",
    "<img src=\"https://miro.medium.com/max/1400/1*urJTrfWn8aZdhb9A-HXZVg.jpeg\" width=400p>"
   ]
  },
  {
   "cell_type": "markdown",
   "metadata": {},
   "source": [
    "**Graph visualization**\n",
    "\n",
    "<img src=\"http://pages.cs.wisc.edu/~paton/readings/Old/fall08/GRAPH-FIGURES/pathGraph.gif\" width=100p>\n",
    "\n",
    "Note that the layout of the graph is arbitrary. Graphs that are visualized differently may be the same graph in mathematical sense.\n",
    "\n",
    "<img src=\"http://pages.cs.wisc.edu/~paton/readings/Old/fall08/GRAPH-FIGURES/arbitrary.gif\" width=150p>"
   ]
  },
  {
   "cell_type": "markdown",
   "metadata": {},
   "source": [
    "**Special kinds of graphs**\n",
    "* A directed graph that has no cyclic paths (that contains no cycles) is called a **DAG (a Directed Acyclic Graph)**. Note: DAGs are now quite often used in Big Data processing frameworks e.g. [Spark](https://data-flair.training/blogs/dag-in-apache-spark/), [Airflow](https://airflow.apache.org/docs/stable/concepts.html).\n",
    "* An undirected graph that has an edge between every pair of nodes is called a **complete graph**. A directed graph can also be a complete graph; in that case, there must be an edge from every node to every other node.\n",
    "<img src=\"http://pages.cs.wisc.edu/~paton/readings/Old/fall08/GRAPH-FIGURES/complete.gif\" width=70p>\n",
    "* A graph (either directed or undirected) that has values associated with its edges is called a **weighted graph**. Edge's weight may represent road length in transportation simulations. With that setup, we can calculate shortest path between given intersections using graph traversal algorithms e.g. Dijsktra's algorithm or A* algorithm.\n",
    "* A graph is connected if there is a path from every node to every other node (has only one **component**)\n",
    "<img src=\"http://pages.cs.wisc.edu/~paton/readings/Old/fall08/GRAPH-FIGURES/connected.gif\" width=500p>\n",
    "* Edge can connect a node to itself (**self-loop**). Often appears in Markov Chains graph.\n",
    "<img src=\"http://pages.cs.wisc.edu/~paton/readings/Old/fall08/GRAPH-FIGURES/selfLoop.gif\" width=250p>\n"
   ]
  },
  {
   "cell_type": "markdown",
   "metadata": {},
   "source": [
    "## Information diffusion in social graphs"
   ]
  },
  {
   "cell_type": "markdown",
   "metadata": {},
   "source": [
    "Source: \n",
    "\n",
    "Leskovec, J., Adamic, L. A., & Huberman, B. A. (2007). The Dynamics of Viral Marketing. ACM Transactions on the Web. \n",
    "https://www.cs.cmu.edu/~jure/pubs/viral-tweb.pdf"
   ]
  },
  {
   "cell_type": "markdown",
   "metadata": {},
   "source": [
    "Graph models are often used to study information diffusion in social network (e.g. viral marketing campaign) or to understand spreading of a disease in the population (epidemiology).\n",
    "\n",
    "The classical disease propagation models are based on the stages of a disease in a host: \n",
    "* In **SIR** (susceptible/infected/recovered) model a person is first susceptible to a disease, then can become infected, and thus infectious. After the disease ceases the person is recovered or removed from network. \n",
    "* In **SIRS** or **SIS** (susceptible/infected/(recovered)/susceptible) model, recovered agent is immune for some period. The immunity can wear off, and the person becomes susceptible again.\n",
    "\n",
    "Given a network and a set of infected nodes, the **epidemic threshold** is studied - conditions under which the disease will either dominate or die out.\n",
    "\n",
    "However, abovementioned models are not well fitted to information spread. The problem with these types of models is that they assume a known social network over which the diseases (product recommendations) are spreading and usually a single parameter which specifies the infectiousness of the disease. This would mean that the whole population is equally susceptible to recommendations of a particular product.\n",
    "\n",
    "Diffusion models that try to model the process of adoption of an idea or a product can generally be divided into two groups.\n",
    "1. **Threshold models** where each node in the network has a threshold $t \\in [0, 1]$ , typically drawn from some probability distribution. We also assign connection weights $w_{u,v}$ on the edges of the network. A node adopts the behavior if a sum of the connection weights of its neighbors that already adopted the behavior (purchased a product) is greater than the threshold $t$.\n",
    "2. **Cascade models** where whenever a neighbor $v$ of node $u$ adopts, then node u also adopts with probability $p_{u,v}$. In other words, every time a neighbor of $u$ purchases a product, there is a chance that $u$ will decide to purchase as well."
   ]
  },
  {
   "cell_type": "markdown",
   "metadata": {},
   "source": [
    "## DifPy overview"
   ]
  },
  {
   "cell_type": "markdown",
   "metadata": {},
   "source": [
    "Source: [Blog post about DifPy](https://john-smith-889.github.io/blog/social%20network%20analysis/difpy-diffusion-on-graphs-in-python-PL.html)\n",
    "\n",
    "Code: https://github.com/John-smith-889/difpy"
   ]
  },
  {
   "cell_type": "code",
   "execution_count": null,
   "metadata": {},
   "outputs": [],
   "source": [
    "# !pip install git+git://github.com/John-smith-889/difpy.git"
   ]
  },
  {
   "cell_type": "code",
   "execution_count": null,
   "metadata": {},
   "outputs": [],
   "source": [
    "import difpy as dp"
   ]
  },
  {
   "cell_type": "markdown",
   "metadata": {},
   "source": [
    "### Graph setup"
   ]
  },
  {
   "cell_type": "code",
   "execution_count": null,
   "metadata": {
    "scrolled": false
   },
   "outputs": [],
   "source": [
    "## graph_init() - generate by default Watts-Strogatz graph.\n",
    "#Arguments:\n",
    "# 1) n – no. of vertices\n",
    "# 2) k – average no. of neighbors each node is connected to\n",
    "# 3) rewire_prob – probability of random connection change\n",
    "# 4) initiation_perc – infected/aware nodes at setup (random sampling)\n",
    "# 5) show_attr – show attributes flag\n",
    "# 6) draw_graph – show grap flag\n",
    "#Returns:\n",
    "# 1) G – NetworkX graph\n",
    "# 2) pos – ndarray with information needed for plotting\n",
    "\n",
    "G, pos = dp.graph_init(n = 10, \n",
    "                       k = 6,\n",
    "                       rewire_prob = 0.1, \n",
    "                       initiation_perc = 0.1,\n",
    "                       show_attr = True, \n",
    "                       draw_graph = True)"
   ]
  },
  {
   "cell_type": "markdown",
   "metadata": {},
   "source": [
    "As part of the `graph_init()` function random edges' weights are drawn from exponential distribution and express probability of contact between individual agents. \n",
    "\n",
    "Additionally, four attributes for each node are generated:\n",
    "* **receptiveness** - randomly drawn from the normal distribution and means the agent's ability to receive stimuli from the environment\n",
    "* **extraversion** - generated from the normal distribution and corresponds to the level of agent extraversion in the psychological concept of Carl G. Jung's personality classification.\n",
    "* **engagement** - the level of the actor's involvement in a given topic, related to his experience with the subject in which the information lies. The engagement is drawn from the exponential distribution.\n",
    "* **state** - aware/unaware\n",
    "\n",
    "\n",
    "Attributes are used to calculate chance of information transfer between individual nodes in the simulation module."
   ]
  },
  {
   "cell_type": "code",
   "execution_count": null,
   "metadata": {
    "scrolled": true
   },
   "outputs": [],
   "source": [
    "dp.draw_graph(G, # graph\n",
    "            pos, # position of nodes\n",
    "            aware_color = 'red',\n",
    "            not_aware_color = 'lightblue',\n",
    "            legend = True)"
   ]
  },
  {
   "cell_type": "code",
   "execution_count": null,
   "metadata": {
    "scrolled": false
   },
   "outputs": [],
   "source": [
    "dp.graph_stats(G, \n",
    "        pos, \n",
    "        show_attr = False, \n",
    "        draw_degree = True,\n",
    "        draw_graph = False)\n",
    "# Clustering coeff: https://mathinsight.org/definition/clustering_coefficient\n",
    "# Transitivity: https://mathinsight.org/definition/transitivity_graph"
   ]
  },
  {
   "cell_type": "code",
   "execution_count": null,
   "metadata": {},
   "outputs": [],
   "source": [
    "import networkx as nx\n",
    "import numpy as np\n",
    "import copy\n",
    "G_02 = nx.watts_strogatz_graph(n = 10, k = 6, p = 0.3, seed=None)\n",
    "pos = nx.spring_layout(G_02)\n",
    "weights = np.round(np.random.exponential(scale = 0.1, \n",
    "                size = G_02.number_of_edges()), 6).reshape(G_02.number_of_edges(),1)\n",
    "\n",
    "# Add feature\n",
    "G_02 = dp.add_feature(G_02,\n",
    "                   pos,\n",
    "                   feature = weights,\n",
    "                   feature_type = \"weights\",\n",
    "                   scaling = True,\n",
    "                   decimals = 6,\n",
    "                   show_attr = True, # show node weights and attributes\n",
    "                   draw_graph = False)"
   ]
  },
  {
   "cell_type": "code",
   "execution_count": null,
   "metadata": {
    "scrolled": true
   },
   "outputs": [],
   "source": [
    "#Add another feature\n",
    "# Create example engagement\n",
    "engagement = np.round(np.random.exponential(scale = 0.1, \n",
    "size = G_02.number_of_edges()), 6).reshape(G_02.number_of_edges(),1)\n",
    "\n",
    "# Add feature\n",
    "G_02 = dp.add_feature(G_02,\n",
    "                   pos,\n",
    "            feature = engagement,\n",
    "            feature_type = \"engagement\",\n",
    "            scaling = True,\n",
    "            show_attr = True, # show node weights and attributes\n",
    "            draw_graph = False)"
   ]
  },
  {
   "cell_type": "code",
   "execution_count": null,
   "metadata": {
    "scrolled": true
   },
   "outputs": [],
   "source": [
    "# Add random state\n",
    "dp.add_state_random(G_02, \n",
    "                    pos,\n",
    "                    initiation_perc = 0.2, \n",
    "                    show_attr = True, \n",
    "                    draw_graph = True)"
   ]
  },
  {
   "cell_type": "markdown",
   "metadata": {},
   "source": [
    "### Simulation"
   ]
  },
  {
   "cell_type": "markdown",
   "metadata": {},
   "source": [
    "Simulation module provide functions to simulate information propagation over networks. \n",
    "\n",
    "It consists of the functions: \n",
    "* `simulation_step()` - calculates system state after single step of simulation\n",
    "* `simulation()` - calculates system state after `n` steps\n",
    "* `simulation_sequence()` - run simulation with `n` steps in many iterations (Monte Carlo model) and calculates average awareness increase"
   ]
  },
  {
   "cell_type": "code",
   "execution_count": null,
   "metadata": {},
   "outputs": [],
   "source": [
    "G, pos = dp.graph_init(n = 10, \n",
    "                       k= 6,\n",
    "                       rewire_prob = 0.1, \n",
    "                       initiation_perc = 0.1,\n",
    "                       show_attr = False, \n",
    "                       draw_graph = False)"
   ]
  },
  {
   "cell_type": "code",
   "execution_count": null,
   "metadata": {},
   "outputs": [],
   "source": [
    "# Copy graph \n",
    "G1 = copy.deepcopy(G)"
   ]
  },
  {
   "cell_type": "code",
   "execution_count": null,
   "metadata": {},
   "outputs": [],
   "source": [
    "# Perform one simulation step\n",
    "#Arguments:\n",
    "# 1) G – NetworkX graph\n",
    "# 2) pos – ndarray with information needed for plotting\n",
    "# 3) kernel – \n",
    "## “weights” - propagation probability set by edges weights\n",
    "## “WERE” - propagation based on weights-extraversion-receptiveness-engagement formula\n",
    "## “custom” - propagation based on custom function\n",
    "# 4) engagement_enforcement – engagement multiplier - \n",
    "##increase engagement in every iteration for agents who are aware of information\n",
    "# 5) custom_kernel – custom function that control probability of information propagation between nodes -\n",
    "##can operate on agents attributes\n",
    "# 6) WERE_multiplier – optional, controls values  calculated with \"WERE\" kernel\n",
    "# 7) oblivion – optional, controls agents ability to forget the information (lose awareness)\n",
    "# 8) draw – show grap flag\n",
    "# 9) show_attr - show attributes flag\n",
    "G1 = dp.simulation_step(G1, \n",
    "                       pos,\n",
    "                       kernel = 'weights', \n",
    "                       custom_kernel = None,\n",
    "                       WERE_multiplier = 10, \n",
    "                       oblivion = False, \n",
    "                       engagement_enforcement = 1.01,\n",
    "                       draw = True, \n",
    "                       show_attr = False)"
   ]
  },
  {
   "cell_type": "code",
   "execution_count": null,
   "metadata": {
    "scrolled": true
   },
   "outputs": [],
   "source": [
    "# Simulation\n",
    "G2 = copy.deepcopy(G)\n",
    "graph_list, avg_aware_inc_per_step = dp.simulation(G2, \n",
    "               pos,\n",
    "               n = 2,                 \n",
    "               kernel = 'weights', \n",
    "               custom_kernel = None,\n",
    "               WERE_multiplier = 10, \n",
    "               oblivion = False, \n",
    "               engagement_enforcement = 1.01,\n",
    "               draw = False, \n",
    "               show_attr = False)\n",
    "    \n",
    "print(avg_aware_inc_per_step)\n",
    "\n",
    "import pprint\n",
    "pprint.pprint(graph_list)"
   ]
  },
  {
   "cell_type": "code",
   "execution_count": null,
   "metadata": {},
   "outputs": [],
   "source": [
    "G2 = copy.deepcopy(G)\n",
    "avg_aware_inc_per_step = \\\n",
    "dp.simulation_sequence(G2, # networkX graph object\n",
    "                        #pos, # p\n",
    "                        n = 2, # number of steps in simulation\n",
    "                        sequence_len = 1000, # sequence of simulations   \n",
    "                        kernel = 'weights', # kernel type\n",
    "                        custom_kernel = None, # custom kernel function\n",
    "                        WERE_multiplier = 10, \n",
    "                        oblivion = False, # information oblivion feature \n",
    "                        engagement_enforcement = 1.01,\n",
    "                        show_attr = False)"
   ]
  },
  {
   "cell_type": "code",
   "execution_count": null,
   "metadata": {},
   "outputs": [],
   "source": [
    "avg_aware_inc_per_step"
   ]
  },
  {
   "cell_type": "markdown",
   "metadata": {},
   "source": [
    "### Optimization"
   ]
  },
  {
   "cell_type": "markdown",
   "metadata": {},
   "source": [
    "The purpose of the optimization module is to designate **n** network nodes that propagate information. The module includes `optimize_centrality()` function which calculates a set of n nodes with the highest level of closeness. The second function is `optimize_rs()`, which looks for the best vertices using the random search method."
   ]
  },
  {
   "cell_type": "code",
   "execution_count": null,
   "metadata": {},
   "outputs": [],
   "source": [
    "# Run function with weights as distances\n",
    "#Arguments:\n",
    "# 1) G – graph object\n",
    "# 2) number_of_nodes – how many nodes to be returned\n",
    "# 3) distance – which attribute use in optimization\n",
    "# 4) wf_improved – algorithm mode switch\n",
    "dp.optimize_centrality(G2,\n",
    "                    distance = 'weight',\n",
    "                    wf_improved = True,\n",
    "                    number_of_nodes = 4)"
   ]
  },
  {
   "cell_type": "code",
   "execution_count": null,
   "metadata": {
    "scrolled": false
   },
   "outputs": [],
   "source": [
    "solution = dp.optimize_rs(G2,\n",
    "        number_of_nodes = 2, # number of nodes to seed\n",
    "        number_of_iter = 100, # number of iterations \n",
    "        log_info_interval = 10, # interval of information log \n",
    "                       \n",
    "        n = 3, # number of simulation steps simulation\n",
    "        sequence_len = 100, # number of simulations in one seq\n",
    "                       \n",
    "        kernel = 'weights', # kernel type\n",
    "        custom_kernel = None, # custom kernel function\n",
    "        WERE_multiplier = 10, \n",
    "        oblivion = False, # information oblivion feature \n",
    "        engagement_enforcement = 1.00\n",
    "        )"
   ]
  },
  {
   "cell_type": "markdown",
   "metadata": {},
   "source": [
    "### Interpretability module"
   ]
  },
  {
   "cell_type": "markdown",
   "metadata": {},
   "source": [
    "Module provide tools to explore and explain attributes influence on information diffusion ability in the network.\n",
    "\n",
    "`nodes_score_simulation()` function calculates average awareness increase in a network for every node (Monte Carlo approach)\n",
    "`feature_importance()` function calculates  feature importance for every attribute assigned to agents - use ML algorithm capable of producing importance score e.g. XGBoost"
   ]
  },
  {
   "cell_type": "code",
   "execution_count": null,
   "metadata": {
    "scrolled": true
   },
   "outputs": [],
   "source": [
    "solution = dp.nodes_score_simulation(copy.deepcopy(G), \n",
    "                       log_info_interval = 5, # interval of information log \n",
    "                       n = 3, # number of simulation steps simulation\n",
    "                       sequence_len = 100, # number of simulations in one seq\n",
    "                       kernel = 'weights', # kernel type\n",
    "                       custom_kernel = None, # custom kernel function\n",
    "                       WERE_multiplier = 10, \n",
    "                       oblivion = False, # information oblivion feature \n",
    "                       engagement_enforcement = 1.00\n",
    "                       )"
   ]
  },
  {
   "cell_type": "code",
   "execution_count": null,
   "metadata": {},
   "outputs": [],
   "source": [
    "#Extracting attributes\n",
    "X = []\n",
    "for attr in list(G.nodes[0].keys())[1:]:\n",
    "     X.append([G.nodes[n][attr] for n in G.nodes])\n",
    "X = np.transpose(np.array(X))\n",
    "X"
   ]
  },
  {
   "cell_type": "code",
   "execution_count": null,
   "metadata": {},
   "outputs": [],
   "source": [
    "FI = dp.feature_importance(\n",
    "                       G2, # NetworkX graph\n",
    "                       X, # Nodes attributes \n",
    "                       show = True,\n",
    "                       log_info_interval = 10, # interval of information log \n",
    "                       \n",
    "                       n = 3, # number of simulation steps simulation\n",
    "                       sequence_len = 20, # number of simulations in one seq\n",
    "                       \n",
    "                       kernel = 'weights', # kernel type\n",
    "                       custom_kernel = None, # custom kernel function\n",
    "                       WERE_multiplier = 10, \n",
    "                       oblivion = False, # information oblivion feature \n",
    "                       engagement_enforcement = 1.00\n",
    "                       )\n",
    "print(list(G.nodes[0].keys())[1:])"
   ]
  },
  {
   "cell_type": "markdown",
   "metadata": {},
   "source": [
    "## Viral marketing example"
   ]
  },
  {
   "cell_type": "markdown",
   "metadata": {},
   "source": [
    "Source: https://github.com/John-smith-889/difpy/blob/master/difpy_case_pl.ipynb"
   ]
  },
  {
   "cell_type": "markdown",
   "metadata": {},
   "source": [
    "### Generate random network of clients"
   ]
  },
  {
   "cell_type": "code",
   "execution_count": null,
   "metadata": {
    "scrolled": true
   },
   "outputs": [],
   "source": [
    "G, pos = dp.graph_init(n = 300, \n",
    "                       k= 5,\n",
    "                       rewire_prob = 0.2, \n",
    "                       initiation_perc = 0.00,\n",
    "                       show_attr = False, \n",
    "                       draw_graph = True)"
   ]
  },
  {
   "cell_type": "code",
   "execution_count": null,
   "metadata": {},
   "outputs": [],
   "source": [
    "dp.graph_stats(G, pos, show_attr = False, draw_degree = True,  \n",
    "            draw_graph = False)"
   ]
  },
  {
   "cell_type": "markdown",
   "metadata": {},
   "source": [
    "### Find \"influencers\""
   ]
  },
  {
   "cell_type": "code",
   "execution_count": null,
   "metadata": {},
   "outputs": [],
   "source": [
    "solution = dp.optimize_rs(copy.deepcopy(G),\n",
    "        number_of_nodes = 5, # number of nodes to seed\n",
    "        number_of_iter = 15, # number of iterations \n",
    "        log_info_interval = 5, # interval of information log \n",
    "                       \n",
    "        n = 10, # number of simulation steps simulation\n",
    "        sequence_len = 30, # number of simulations in one sequence\n",
    "                       \n",
    "        kernel = 'WERE', # kernel type\n",
    "        custom_kernel = None, # custom kernel function\n",
    "        WERE_multiplier = 100, \n",
    "        oblivion = False, # information oblivion feature \n",
    "        engagement_enforcement = 1.01\n",
    "        )"
   ]
  },
  {
   "cell_type": "code",
   "execution_count": null,
   "metadata": {},
   "outputs": [],
   "source": [
    "solution[1]"
   ]
  },
  {
   "cell_type": "markdown",
   "metadata": {},
   "source": [
    "### Compare random campaign vs. based on influencers"
   ]
  },
  {
   "cell_type": "markdown",
   "metadata": {},
   "source": [
    "#### Version 1"
   ]
  },
  {
   "cell_type": "markdown",
   "metadata": {},
   "source": [
    "Goal of campaign: spread product information to 90% of all nodes ASAP"
   ]
  },
  {
   "cell_type": "code",
   "execution_count": null,
   "metadata": {},
   "outputs": [],
   "source": [
    "import seaborn as sns\n",
    "import matplotlib.pyplot as plt"
   ]
  },
  {
   "cell_type": "code",
   "execution_count": null,
   "metadata": {},
   "outputs": [],
   "source": [
    "n = len(G.nodes)\n",
    "iterations = 100"
   ]
  },
  {
   "cell_type": "code",
   "execution_count": null,
   "metadata": {},
   "outputs": [],
   "source": [
    "steps_random = []\n",
    "for _ in range(iterations):\n",
    "    G_tmp = copy.deepcopy(G)\n",
    "    # Make 5 random nodes aware\n",
    "    dp.add_state_random(G_tmp, \n",
    "                        pos,\n",
    "                        initiation_perc = 5/n, \n",
    "                        show_attr = False, \n",
    "                        draw_graph = False)\n",
    "    steps = 0\n",
    "    while sum([G_tmp.nodes[n]['state'] == 'aware' for n in G_tmp.nodes])/n < 0.9:\n",
    "        steps +=1\n",
    "        G_tmp = dp.simulation_step(G_tmp, \n",
    "                           pos,\n",
    "                           kernel = 'WERE', \n",
    "                           WERE_multiplier = 100, \n",
    "                           oblivion = False, \n",
    "                           engagement_enforcement = 1.01,\n",
    "                           draw = False, \n",
    "                           show_attr = False)\n",
    "    steps_random.append(steps)\n",
    "np.mean(steps_random)"
   ]
  },
  {
   "cell_type": "code",
   "execution_count": null,
   "metadata": {},
   "outputs": [],
   "source": [
    "steps_infl = []\n",
    "G_infl = copy.deepcopy(G)\n",
    "for node in solution[1]:\n",
    "    G_infl.nodes[node]['state'] = 'aware'\n",
    "    \n",
    "for _ in range(iterations):\n",
    "    G_tmp = copy.deepcopy(G_infl)\n",
    "    steps = 0\n",
    "    while sum([G_tmp.nodes[n]['state'] == 'aware' for n in G_tmp.nodes])/n < 0.9:\n",
    "        steps +=1\n",
    "        G_tmp = dp.simulation_step(G_tmp, \n",
    "                           pos,\n",
    "                           kernel = 'WERE', \n",
    "                           WERE_multiplier = 100, \n",
    "                           oblivion = False, \n",
    "                           engagement_enforcement = 1.01,\n",
    "                           draw = False, \n",
    "                           show_attr = False)\n",
    "    steps_infl.append(steps)\n",
    "np.mean(steps_infl)"
   ]
  },
  {
   "cell_type": "code",
   "execution_count": null,
   "metadata": {
    "scrolled": true
   },
   "outputs": [],
   "source": [
    "sns.distplot(steps_random , color=\"green\", label=\"Random spreaders\")\n",
    "sns.distplot(steps_infl , color=\"red\", label=\"Influencers\")\n",
    "plt.legend();"
   ]
  },
  {
   "cell_type": "markdown",
   "metadata": {},
   "source": [
    "#### Version 2"
   ]
  },
  {
   "cell_type": "markdown",
   "metadata": {},
   "source": [
    "Goal of campaign: check spread among network after 5 time steps"
   ]
  },
  {
   "cell_type": "code",
   "execution_count": null,
   "metadata": {},
   "outputs": [],
   "source": [
    "k = 5"
   ]
  },
  {
   "cell_type": "code",
   "execution_count": null,
   "metadata": {},
   "outputs": [],
   "source": [
    "aware_random = []\n",
    "for _ in range(iterations):\n",
    "    G_tmp = copy.deepcopy(G)\n",
    "    # Make 5 random nodes aware\n",
    "    dp.add_state_random(G_tmp, \n",
    "                        pos,\n",
    "                        initiation_perc = 5/n, \n",
    "                        show_attr = False, \n",
    "                        draw_graph = False)\n",
    "    for _ in range(k):\n",
    "        G_tmp = dp.simulation_step(G_tmp, \n",
    "                           pos,\n",
    "                           kernel = 'WERE', \n",
    "                           WERE_multiplier = 100, \n",
    "                           oblivion = False, \n",
    "                           engagement_enforcement = 1.01,\n",
    "                           draw = False, \n",
    "                           show_attr = False)\n",
    "    aware_random.append(sum([G_tmp.nodes[n]['state'] == 'aware' for n in G_tmp.nodes]))\n",
    "np.mean(aware_random)"
   ]
  },
  {
   "cell_type": "code",
   "execution_count": null,
   "metadata": {},
   "outputs": [],
   "source": [
    "aware_infl = []\n",
    "G_infl = copy.deepcopy(G)\n",
    "for node in solution[1]:\n",
    "    G_infl.nodes[node]['state'] = 'aware'\n",
    "    \n",
    "for _ in range(iterations):\n",
    "    G_tmp = copy.deepcopy(G_infl)\n",
    "    for _ in range(k):\n",
    "        G_tmp = dp.simulation_step(G_tmp, \n",
    "                           pos,\n",
    "                           kernel = 'WERE',\n",
    "                           WERE_multiplier = 100, \n",
    "                           oblivion = False, \n",
    "                           engagement_enforcement = 1.01,\n",
    "                           draw = False, \n",
    "                           show_attr = False)\n",
    "    aware_infl.append(sum([G_tmp.nodes[n]['state'] == 'aware' for n in G_tmp.nodes]))\n",
    "np.mean(aware_infl)"
   ]
  },
  {
   "cell_type": "code",
   "execution_count": null,
   "metadata": {},
   "outputs": [],
   "source": [
    "sns.distplot(aware_random , color=\"blue\", label=\"Random spreaders\")\n",
    "sns.distplot(aware_infl , color=\"red\", label=\"Influencers\")\n",
    "plt.legend();"
   ]
  }
 ],
 "metadata": {
  "kernelspec": {
   "display_name": "Python 3",
   "language": "python",
   "name": "python3"
  },
  "language_info": {
   "codemirror_mode": {
    "name": "ipython",
    "version": 3
   },
   "file_extension": ".py",
   "mimetype": "text/x-python",
   "name": "python",
   "nbconvert_exporter": "python",
   "pygments_lexer": "ipython3",
   "version": "3.7.6"
  },
  "toc": {
   "base_numbering": 1,
   "nav_menu": {},
   "number_sections": true,
   "sideBar": true,
   "skip_h1_title": true,
   "title_cell": "Table of Contents",
   "title_sidebar": "Contents",
   "toc_cell": false,
   "toc_position": {
    "height": "calc(100% - 180px)",
    "left": "10px",
    "top": "150px",
    "width": "259px"
   },
   "toc_section_display": true,
   "toc_window_display": true
  }
 },
 "nbformat": 4,
 "nbformat_minor": 4
}
