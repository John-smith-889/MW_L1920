{
 "cells": [
  {
   "cell_type": "markdown",
   "metadata": {},
   "source": [
    "# Zajęcia 1 - Modelowanie Wieloagentowe - El Farol"
   ]
  },
  {
   "cell_type": "markdown",
   "metadata": {
    "toc": true
   },
   "source": [
    "<h1>Table of Contents<span class=\"tocSkip\"></span></h1>\n",
    "<div class=\"toc\"><ul class=\"toc-item\"><li><span><a href=\"#Description\" data-toc-modified-id=\"Description-1\"><span class=\"toc-item-num\">1&nbsp;&nbsp;</span>Description</a></span></li><li><span><a href=\"#Code\" data-toc-modified-id=\"Code-2\"><span class=\"toc-item-num\">2&nbsp;&nbsp;</span>Code</a></span><ul class=\"toc-item\"><li><span><a href=\"#Define-agent-struct\" data-toc-modified-id=\"Define-agent-struct-2.1\"><span class=\"toc-item-num\">2.1&nbsp;&nbsp;</span>Define agent struct</a></span></li><li><span><a href=\"#Auxilary-functions\" data-toc-modified-id=\"Auxilary-functions-2.2\"><span class=\"toc-item-num\">2.2&nbsp;&nbsp;</span>Auxilary functions</a></span></li><li><span><a href=\"#Generating-agents-and-assigning-strategies\" data-toc-modified-id=\"Generating-agents-and-assigning-strategies-2.3\"><span class=\"toc-item-num\">2.3&nbsp;&nbsp;</span>Generating agents and assigning strategies</a></span></li></ul></li><li><span><a href=\"#Analysis\" data-toc-modified-id=\"Analysis-3\"><span class=\"toc-item-num\">3&nbsp;&nbsp;</span>Analysis</a></span><ul class=\"toc-item\"><li><span><a href=\"#Base-model\" data-toc-modified-id=\"Base-model-3.1\"><span class=\"toc-item-num\">3.1&nbsp;&nbsp;</span>Base model</a></span></li><li><span><a href=\"#Parameters-analysis\" data-toc-modified-id=\"Parameters-analysis-3.2\"><span class=\"toc-item-num\">3.2&nbsp;&nbsp;</span>Parameters analysis</a></span><ul class=\"toc-item\"><li><span><a href=\"#Memory-size\" data-toc-modified-id=\"Memory-size-3.2.1\"><span class=\"toc-item-num\">3.2.1&nbsp;&nbsp;</span>Memory size</a></span></li><li><span><a href=\"#Number-of-strategies\" data-toc-modified-id=\"Number-of-strategies-3.2.2\"><span class=\"toc-item-num\">3.2.2&nbsp;&nbsp;</span>Number of strategies</a></span></li><li><span><a href=\"#Crowdedness-threshold\" data-toc-modified-id=\"Crowdedness-threshold-3.2.3\"><span class=\"toc-item-num\">3.2.3&nbsp;&nbsp;</span>Crowdedness threshold</a></span></li></ul></li></ul></li><li><span><a href=\"#Literature\" data-toc-modified-id=\"Literature-4\"><span class=\"toc-item-num\">4&nbsp;&nbsp;</span>Literature</a></span></li></ul></div>"
   ]
  },
  {
   "cell_type": "markdown",
   "metadata": {},
   "source": [
    "## Description"
   ]
  },
  {
   "attachments": {},
   "cell_type": "markdown",
   "metadata": {},
   "source": [
    "El Farol is a bar in Santa Fe, New Mexico. The bar is popular - especially on Thursday nights when they offer Irish music - but sometimes becomes overcrowded and unpleasant. In fact, if the patrons of the bar think it will be overcrowded they stay home; otherwise they go enjoy themselves at El Farol. This model explores what happens to the overall attendance at the bar on these popular Thursday evenings, as the patrons use different strategies for determining how crowded they think the bar will be.\n",
    "\n",
    "El Farol was originally put forth by Brian Arthur (1994) as an example of how one might model economic systems of boundedly rational agents who use inductive reasoning.\n",
    "\n",
    "This model is from Chapter Three of the book \"Introduction to Agent-Based Modeling: Modeling Natural, Social and Engineered Complex Systems with NetLogo\", by Uri Wilensky & William Rand."
   ]
  },
  {
   "cell_type": "markdown",
   "metadata": {},
   "source": [
    "Bar customers have limited rationality in their choices. They rely on intuitive analysis of bar visit patterns and predicting the behavior of other customers. Based on the information available, they create different strategies and use those, that predict attendance at El Farol well. If there are changes in the process and picked strategy is not effective anymore, new strategy will replace it over time - customers use inductive reasoning.\n",
    "\n",
    "\n",
    "\n",
    "In order to simulate the task, a multi-agent model was created based on the following\n",
    "assumptions:\n",
    "1. Each agent is assigned a fixed number of random strategies. Prediction of bar attendace in i-th week back for n-th strategy is defined as:\n",
    "\n",
    "$$S_n(f_i) = a_{1,n}f_{i+1} + a_{2,n}f_{i+2} + ... + a_{k,n}f_{i+k}$$\n",
    "\n",
    "where $a_{1,n}, a_{2,n}, ..., a_{k,n}$ are random coefficients from $<-1;1>$. Prediction\n",
    "_ex ante_ for upcoming week is then:\n",
    "\n",
    "$$S_n(f_0) = a_{1,n}f_1 + a_{2,n}f_2 + ... + a_{k,n}f_k$$\n",
    "\n",
    "For $i > 0$ formula return prediction _ex post_.\n",
    "2. Agent strategies take into account k earlier attendance values, where k is specified as the agent's \"memory\".\n",
    "3. At each simulation step, agents determine the best strategy $S_{best}$ from the assigned set of strategies that will be used to predict attendance at a given step. Best strategy minimizes an error:\n",
    "$$\\epsilon_n = \\sum^k_{i=1}|f_i − S_n(f_i)|$$\n",
    "4. If the predicted attendance for the next week is lower than the congestion threshold the agent decides to visit the bar. Otherwise, the agent decides to stay home.\n",
    "$$Attend = \\begin{cases}1 & S_{best}(f_0) \\leq crowd\\_threshold\\\\0 & S_{best}(f_0) > crowd\\_threshold\\end{cases}$$"
   ]
  },
  {
   "cell_type": "markdown",
   "metadata": {},
   "source": [
    "Simulation parameters:\n",
    "\n",
    "|Parameter name| Description|\n",
    "|---------------|---------------|\n",
    "|Memory_size| Number of history attendance values used in prediction|\n",
    "|N_of_strategies| Size of agent's strategy set|\n",
    "|Crowd_threshold| Threshold of bar crowdedness|\n",
    "|Num_agents| Number of agents|\n",
    "|Sim_ticks| Number of weeks simulated|"
   ]
  },
  {
   "cell_type": "markdown",
   "metadata": {},
   "source": [
    "## Code"
   ]
  },
  {
   "cell_type": "code",
   "execution_count": null,
   "metadata": {},
   "outputs": [],
   "source": [
    "using Plots\n",
    "using Statistics"
   ]
  },
  {
   "cell_type": "markdown",
   "metadata": {},
   "source": [
    "### Define agent struct"
   ]
  },
  {
   "cell_type": "code",
   "execution_count": null,
   "metadata": {},
   "outputs": [],
   "source": [
    "mutable struct Drinker\n",
    "    ID::Int64\n",
    "    strategies::Matrix{Float64}  # list of strategies to choose from\n",
    "    best_strategy::Int64 # index of currently best strategy\n",
    "    intention::Bool # whether agent intends to go to El Farol in this iteration\n",
    "    prediction::Int64 # predicted attendance\n",
    "end"
   ]
  },
  {
   "cell_type": "markdown",
   "metadata": {},
   "source": [
    "### Auxilary functions"
   ]
  },
  {
   "cell_type": "markdown",
   "metadata": {},
   "source": [
    "Function generating `n` random strategies for `memory` upcoming weeks"
   ]
  },
  {
   "cell_type": "code",
   "execution_count": null,
   "metadata": {},
   "outputs": [],
   "source": [
    "function generate_strategies(n::Int64, memory::Int64)\n",
    "    #weights for each week are random floats from -1 to 1\n",
    "    strategies_set = 1 .- 2 * rand(n, memory)\n",
    "    return strategies_set\n",
    "end"
   ]
  },
  {
   "cell_type": "markdown",
   "metadata": {},
   "source": [
    "Function calculating predicted attendance for set of strategies"
   ]
  },
  {
   "cell_type": "code",
   "execution_count": null,
   "metadata": {},
   "outputs": [],
   "source": [
    "function predict_attendance(s_set::Matrix{Float64}, timeframe::Vector{Int64})\n",
    "    #Multiplying attendance vector and weights matrix + constant\n",
    "    #Return vector of predictions for each strategy\n",
    "    return round.(Int, 100 .* s_set[:, 1] + s_set[:, 2:end] * timeframe)\n",
    "end"
   ]
  },
  {
   "cell_type": "markdown",
   "metadata": {},
   "source": [
    "Prediction for single strategy"
   ]
  },
  {
   "cell_type": "code",
   "execution_count": null,
   "metadata": {},
   "outputs": [],
   "source": [
    "function predict_attendance(strategy::Vector{Float64}, timeframe::Vector{Int64})\n",
    "    #Multiplying attendance vector and weights vector + constant\n",
    "    #Return single prediction for given strategy\n",
    "    return round(Int, strategy[1] * 100 + strategy[2:end]' * timeframe)\n",
    "end"
   ]
  },
  {
   "cell_type": "markdown",
   "metadata": {},
   "source": [
    "Function finding best strategy for given set"
   ]
  },
  {
   "cell_type": "code",
   "execution_count": null,
   "metadata": {},
   "outputs": [],
   "source": [
    "function update_best_strategy(s_set::Matrix{Float64}, timeframe::Vector{Int64}, mem_size::Int64)\n",
    "    #Initialize errors vector with 0\n",
    "    n = size(s_set, 1)\n",
    "    errors_vector = zeros(n)\n",
    "    #Calculate errors 'memory_size' times and sum them\n",
    "    #Error = abs(attendance_i_week_back - predicted_attendance_i_week_back)\n",
    "    week = 1\n",
    "    for i in 1:mem_size\n",
    "        predicted = predict_attendance(s_set, timeframe[(i+1):(i + mem_size)])\n",
    "        errors_vector += abs.(timeframe[i] .- predicted)\n",
    "    end\n",
    "    #Return index of minimal error\n",
    "    return argmin(errors_vector)\n",
    "end"
   ]
  },
  {
   "cell_type": "markdown",
   "metadata": {},
   "source": [
    "### Generating agents and assigning strategies"
   ]
  },
  {
   "cell_type": "markdown",
   "metadata": {},
   "source": [
    "Function for setting up an experiment"
   ]
  },
  {
   "cell_type": "code",
   "execution_count": null,
   "metadata": {},
   "outputs": [],
   "source": [
    "function setup(n_agents::Int64, n_strategies::Int64, mem_size::Int64)\n",
    "    #Generating random bar attendance history to start the model\n",
    "    attendance_history = rand(0:n_agents, mem_size * 2)\n",
    "    #Initialize vector of agents\n",
    "    Agents = [Drinker() for i = 1:n_agents]\n",
    "    #Setting up agents\n",
    "    for (ind, a) in enumerate(Agents)\n",
    "        a.ID = ind\n",
    "        a.strategies = generate_strategies(n_strategies, mem_size + 1)\n",
    "        a.best_strategy = rand(1:n_strategies, 1)[1]\n",
    "    end\n",
    "    #Return initial attendance history vector and array of agents\n",
    "    return attendance_history, Agents\n",
    "end"
   ]
  },
  {
   "cell_type": "markdown",
   "metadata": {},
   "source": [
    "Function for running experiment"
   ]
  },
  {
   "cell_type": "code",
   "execution_count": null,
   "metadata": {},
   "outputs": [],
   "source": [
    "function run_simulation(history::Array{Int64}, Agents::Array{Drinker}, n_ticks::Int64,\n",
    "                        n_agents::Int64, crowd_thresh::Int64, mem_size::Int64)\n",
    "    for i in 1:n_ticks\n",
    "        #Update prediction and agent's decision for current tick\n",
    "        for a in Agents\n",
    "            a.prediction = predict_attendance(a.strategies[a.best_strategy, :], history[1:mem_size])\n",
    "            a.intention = a.prediction <= crowd_thresh\n",
    "        end\n",
    "        #Count bar attendance in given tick\n",
    "        tick_attendance = sum([Agents[j].intention for j = 1:n_agents])\n",
    "        #Update attendance history\n",
    "        history = [tick_attendance; history]\n",
    "        #Update agents' best strategies\n",
    "        for a in Agents\n",
    "            a.best_strategy = update_best_strategy(a.strategies, history[1:(2 * mem_size)], mem_size)\n",
    "        end\n",
    "    end\n",
    "    return reverse(history), Agents\n",
    "end"
   ]
  },
  {
   "cell_type": "markdown",
   "metadata": {},
   "source": [
    "## Analysis"
   ]
  },
  {
   "cell_type": "markdown",
   "metadata": {},
   "source": [
    "### Base model"
   ]
  },
  {
   "cell_type": "code",
   "execution_count": null,
   "metadata": {},
   "outputs": [],
   "source": [
    "struct Input\n",
    "    num_agents::Int64\n",
    "    sim_ticks::Int64\n",
    "    crowd_threshold::Int64\n",
    "    memory_size::Int64\n",
    "    num_of_strategies::Int64\n",
    "end"
   ]
  },
  {
   "cell_type": "code",
   "execution_count": null,
   "metadata": {},
   "outputs": [],
   "source": [
    "# Base model constructor\n",
    "In_base = Input(100, 100, 60, 5, 10)\n",
    "#Default constructor\n",
    "Drinker() = Drinker(0, zeros(In_base.num_of_strategies, In_base.memory_size), 0, 0, 0)\n",
    "\n",
    "# Setting up base experiment\n",
    "attendance_history_setup, Agents_setup = setup(In_base.num_agents, In_base.num_of_strategies, In_base.memory_size)\n",
    "# Running experiment\n",
    "attendance_history, Agents = run_simulation(attendance_history_setup, Agents_setup, In_base.sim_ticks, In_base.num_agents,\n",
    "                                            In_base.crowd_threshold, In_base.memory_size);"
   ]
  },
  {
   "cell_type": "code",
   "execution_count": null,
   "metadata": {},
   "outputs": [],
   "source": [
    "plot(attendance_history, lw = 2)\n",
    "att_len = length(attendance_history)\n",
    "plot!(1:att_len,fill(60,att_len), legend = false)"
   ]
  },
  {
   "cell_type": "markdown",
   "metadata": {},
   "source": [
    "### Parameters analysis"
   ]
  },
  {
   "cell_type": "code",
   "execution_count": null,
   "metadata": {},
   "outputs": [],
   "source": [
    "function plot_results(n::Int, \n",
    "        k::Int, \n",
    "        results::Matrix{<:Real}, \n",
    "        thresh::Int, \n",
    "        title::String)\n",
    "    rows, cols = size(results)\n",
    "    scatter(repeat(1:rows,inner=k),reshape(transpose(results[:,((n-1)*k+1):k*n]),rows*k), \n",
    "        alpha =0.1, ylim = [0,100], color=\"grey\")\n",
    "    plot!(1:rows,fill(thresh,rows), lw =3, color=\"red\")\n",
    "    plot!(1:rows,mean(results[:,((n-1)*k+1):k*n], dims=2), lw = 2, color=\"blue\",\n",
    "        legend = false, title = title)\n",
    "end"
   ]
  },
  {
   "cell_type": "markdown",
   "metadata": {},
   "source": [
    "#### Memory size"
   ]
  },
  {
   "cell_type": "code",
   "execution_count": null,
   "metadata": {},
   "outputs": [],
   "source": [
    "k = 10\n",
    "mem_size_grid = vcat(collect(1:2:7), 10)\n",
    "result_mem_size = Array{Int64}(undef, In_base.sim_ticks, 0)\n",
    "for grid_val in mem_size_grid\n",
    "    for i in 1:k\n",
    "        attendance_history_setup, Agents_setup = setup(In_base.num_agents, In_base.num_of_strategies, grid_val)\n",
    "        attendance_history, Agents = run_simulation(attendance_history_setup, Agents_setup, In_base.sim_ticks, In_base.num_agents,\n",
    "                                                    In_base.crowd_threshold, grid_val)\n",
    "        result_mem_size = hcat(result_mem_size, attendance_history[(grid_val * 2 + 1):end])\n",
    "    end\n",
    "end"
   ]
  },
  {
   "cell_type": "code",
   "execution_count": null,
   "metadata": {
    "scrolled": false
   },
   "outputs": [],
   "source": [
    "plot([plot_results(i,k,result_mem_size,In_base.crowd_threshold,\n",
    "            \"Attendance for memory = $(mem_size_grid[i])\") for i in 1:5]...,size = (700,700),\n",
    "            layout=@layout [a b; c d ; e])"
   ]
  },
  {
   "cell_type": "markdown",
   "metadata": {},
   "source": [
    "#### Number of strategies"
   ]
  },
  {
   "cell_type": "code",
   "execution_count": null,
   "metadata": {},
   "outputs": [],
   "source": [
    "k = 10\n",
    "n_strat_grid = vcat(1, collect(5:5:20))\n",
    "result_n_strat = Array{Int64}(undef, In_base.sim_ticks, 0)\n",
    "for grid_val in n_strat_grid\n",
    "    for i in 1:k\n",
    "        attendance_history_setup, Agents_setup = setup(In_base.num_agents, grid_val, In_base.memory_size)\n",
    "        attendance_history, Agents = run_simulation(attendance_history_setup, Agents_setup, In_base.sim_ticks, In_base.num_agents,\n",
    "                                                    In_base.crowd_threshold, In_base.memory_size)\n",
    "        result_n_strat = hcat(result_n_strat, attendance_history[(In_base.memory_size * 2 + 1):end])\n",
    "    end\n",
    "end"
   ]
  },
  {
   "cell_type": "code",
   "execution_count": null,
   "metadata": {},
   "outputs": [],
   "source": [
    "plot([plot_results(i,k,result_n_strat,60,\"Attendance for no. strategies = $(n_strat_grid[i])\") for i in 1:5]...,size = (700,700),\n",
    "            layout=@layout [a b; c d ; e])"
   ]
  },
  {
   "cell_type": "markdown",
   "metadata": {},
   "source": [
    "#### Crowdedness threshold"
   ]
  },
  {
   "cell_type": "code",
   "execution_count": null,
   "metadata": {},
   "outputs": [],
   "source": [
    "k = 10\n",
    "crowd_thresh_grid = collect(0:20:100)\n",
    "result_crowd_thresh = Array{Int64}(undef, In_base.sim_ticks, 0)\n",
    "for grid_val in crowd_thresh_grid\n",
    "    for i in 1:k\n",
    "        attendance_history_setup, Agents_setup = setup(In_base.num_agents, In_base.num_of_strategies, In_base.memory_size)\n",
    "        attendance_history, Agents = run_simulation(attendance_history_setup, Agents_setup, In_base.sim_ticks, In_base.num_agents,\n",
    "                                                    grid_val, In_base.memory_size)\n",
    "        result_crowd_thresh = hcat(result_crowd_thresh, attendance_history[(In_base.memory_size * 2 + 1):end])\n",
    "    end\n",
    "end"
   ]
  },
  {
   "cell_type": "code",
   "execution_count": null,
   "metadata": {},
   "outputs": [],
   "source": [
    "plot([plot_results(i,k,result_crowd_thresh, crowd_thresh_grid[i],\n",
    "            \"Crowdedness threshold = $(crowd_thresh_grid[i])\") for i in 1:6]...,size = (700,700),\n",
    "            layout=@layout [a b; c d ; e f])"
   ]
  },
  {
   "cell_type": "markdown",
   "metadata": {},
   "source": [
    "## Literature"
   ]
  },
  {
   "cell_type": "markdown",
   "metadata": {},
   "source": [
    "* Arthur, W. B. Inductive reasoning and bounded rationality. The American Economic\n",
    "Review 84 (2) (1994), 406–411.\n",
    "\n",
    "* Wilensky, U., and Rand, W. An Introduction to Agent-Based Modeling. MIT Press,\n",
    "2015.\n"
   ]
  }
 ],
 "metadata": {
  "kernelspec": {
   "display_name": "Julia 1.2.0",
   "language": "julia",
   "name": "julia-1.2"
  },
  "language_info": {
   "file_extension": ".jl",
   "mimetype": "application/julia",
   "name": "julia",
   "version": "1.2.0"
  },
  "toc": {
   "base_numbering": 1,
   "nav_menu": {},
   "number_sections": true,
   "sideBar": true,
   "skip_h1_title": true,
   "title_cell": "Table of Contents",
   "title_sidebar": "Contents",
   "toc_cell": true,
   "toc_position": {},
   "toc_section_display": true,
   "toc_window_display": true
  }
 },
 "nbformat": 4,
 "nbformat_minor": 4
}
